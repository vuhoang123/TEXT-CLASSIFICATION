{
  "cells": [
    {
      "cell_type": "markdown",
      "metadata": {
        "id": "view-in-github",
        "colab_type": "text"
      },
      "source": [
        "<a href=\"https://colab.research.google.com/github/vuhoang123/TEXT-CLASSIFICATION/blob/main/VNTC_TEXT_CLASSIFICATION.ipynb\" target=\"_parent\"><img src=\"https://colab.research.google.com/assets/colab-badge.svg\" alt=\"Open In Colab\"/></a>"
      ]
    },
    {
      "cell_type": "code",
      "execution_count": null,
      "metadata": {
        "id": "TexPnL1YFjp0",
        "colab": {
          "base_uri": "https://localhost:8080/"
        },
        "outputId": "1a47b132-9171-480b-9170-1f82740774b1"
      },
      "outputs": [
        {
          "output_type": "stream",
          "name": "stdout",
          "text": [
            "Drive already mounted at /content/drive; to attempt to forcibly remount, call drive.mount(\"/content/drive\", force_remount=True).\n"
          ]
        }
      ],
      "source": [
        "from google.colab import drive\n",
        "drive.mount('/content/drive')"
      ]
    },
    {
      "cell_type": "code",
      "execution_count": null,
      "metadata": {
        "id": "Fns5lgwTHERW"
      },
      "outputs": [],
      "source": [
        "%cd ../../..\n",
        "!ls"
      ]
    },
    {
      "cell_type": "code",
      "execution_count": null,
      "metadata": {
        "id": "GWYoICw9Ff3I",
        "colab": {
          "base_uri": "https://localhost:8080/"
        },
        "outputId": "f476e0a9-8c71-4b93-9d78-80077d92a38f"
      },
      "outputs": [
        {
          "output_type": "stream",
          "name": "stdout",
          "text": [
            "/content/drive/MyDrive\n"
          ]
        }
      ],
      "source": [
        "cd drive/MyDrive"
      ]
    },
    {
      "cell_type": "code",
      "execution_count": null,
      "metadata": {
        "id": "8LK2X247OGnq"
      },
      "outputs": [],
      "source": [
        "!git clone https://github.com/duyvuleo/VNTC.git"
      ]
    },
    {
      "cell_type": "code",
      "execution_count": null,
      "metadata": {
        "id": "ibaB_Ez_OYxY"
      },
      "outputs": [],
      "source": [
        "%cd VNTC/Data/10Topics/Ver1.1\n",
        "!apt install unrar"
      ]
    },
    {
      "cell_type": "code",
      "execution_count": null,
      "metadata": {
        "id": "u0mtN1U4OvA4"
      },
      "outputs": [],
      "source": [
        "!unrar x Test_Full.rar\n",
        "!unrar x Train_Full.rar \n",
        "!ls"
      ]
    },
    {
      "cell_type": "code",
      "execution_count": null,
      "metadata": {
        "id": "AqXXqbcoHyZI",
        "colab": {
          "base_uri": "https://localhost:8080/"
        },
        "outputId": "ec317e9f-db78-483b-c267-88949bdde422"
      },
      "outputs": [
        {
          "output_type": "stream",
          "name": "stdout",
          "text": [
            "Looking in indexes: https://pypi.org/simple, https://us-python.pkg.dev/colab-wheels/public/simple/\n",
            "Requirement already satisfied: pip in /usr/local/lib/python3.10/dist-packages (23.1.2)\n"
          ]
        }
      ],
      "source": [
        "!python -m pip install --upgrade pip"
      ]
    },
    {
      "cell_type": "code",
      "execution_count": null,
      "metadata": {
        "id": "-a-0jN0LVLR-",
        "colab": {
          "base_uri": "https://localhost:8080/"
        },
        "outputId": "abf9643d-1878-4885-9726-d56cb3994446"
      },
      "outputs": [
        {
          "output_type": "stream",
          "name": "stdout",
          "text": [
            "Looking in indexes: https://pypi.org/simple, https://us-python.pkg.dev/colab-wheels/public/simple/\n",
            "Requirement already satisfied: torch in /usr/local/lib/python3.10/dist-packages (2.0.0+cu118)\n",
            "Requirement already satisfied: transformers in /usr/local/lib/python3.10/dist-packages (4.29.1)\n",
            "Requirement already satisfied: tqdm in /usr/local/lib/python3.10/dist-packages (4.65.0)\n",
            "Requirement already satisfied: sklearn in /usr/local/lib/python3.10/dist-packages (0.0.post5)\n",
            "Requirement already satisfied: Cython in /usr/local/lib/python3.10/dist-packages (0.29.34)\n",
            "Requirement already satisfied: filelock in /usr/local/lib/python3.10/dist-packages (from torch) (3.12.0)\n",
            "Requirement already satisfied: typing-extensions in /usr/local/lib/python3.10/dist-packages (from torch) (4.5.0)\n",
            "Requirement already satisfied: sympy in /usr/local/lib/python3.10/dist-packages (from torch) (1.11.1)\n",
            "Requirement already satisfied: networkx in /usr/local/lib/python3.10/dist-packages (from torch) (3.1)\n",
            "Requirement already satisfied: jinja2 in /usr/local/lib/python3.10/dist-packages (from torch) (3.1.2)\n",
            "Requirement already satisfied: triton==2.0.0 in /usr/local/lib/python3.10/dist-packages (from torch) (2.0.0)\n",
            "Requirement already satisfied: cmake in /usr/local/lib/python3.10/dist-packages (from triton==2.0.0->torch) (3.25.2)\n",
            "Requirement already satisfied: lit in /usr/local/lib/python3.10/dist-packages (from triton==2.0.0->torch) (16.0.3)\n",
            "Requirement already satisfied: huggingface-hub<1.0,>=0.14.1 in /usr/local/lib/python3.10/dist-packages (from transformers) (0.14.1)\n",
            "Requirement already satisfied: numpy>=1.17 in /usr/local/lib/python3.10/dist-packages (from transformers) (1.22.4)\n",
            "Requirement already satisfied: packaging>=20.0 in /usr/local/lib/python3.10/dist-packages (from transformers) (23.1)\n",
            "Requirement already satisfied: pyyaml>=5.1 in /usr/local/lib/python3.10/dist-packages (from transformers) (6.0)\n",
            "Requirement already satisfied: regex!=2019.12.17 in /usr/local/lib/python3.10/dist-packages (from transformers) (2022.10.31)\n",
            "Requirement already satisfied: requests in /usr/local/lib/python3.10/dist-packages (from transformers) (2.27.1)\n",
            "Requirement already satisfied: tokenizers!=0.11.3,<0.14,>=0.11.1 in /usr/local/lib/python3.10/dist-packages (from transformers) (0.13.3)\n",
            "Requirement already satisfied: fsspec in /usr/local/lib/python3.10/dist-packages (from huggingface-hub<1.0,>=0.14.1->transformers) (2023.4.0)\n",
            "Requirement already satisfied: MarkupSafe>=2.0 in /usr/local/lib/python3.10/dist-packages (from jinja2->torch) (2.1.2)\n",
            "Requirement already satisfied: urllib3<1.27,>=1.21.1 in /usr/local/lib/python3.10/dist-packages (from requests->transformers) (1.26.15)\n",
            "Requirement already satisfied: certifi>=2017.4.17 in /usr/local/lib/python3.10/dist-packages (from requests->transformers) (2022.12.7)\n",
            "Requirement already satisfied: charset-normalizer~=2.0.0 in /usr/local/lib/python3.10/dist-packages (from requests->transformers) (2.0.12)\n",
            "Requirement already satisfied: idna<4,>=2.5 in /usr/local/lib/python3.10/dist-packages (from requests->transformers) (3.4)\n",
            "Requirement already satisfied: mpmath>=0.19 in /usr/local/lib/python3.10/dist-packages (from sympy->torch) (1.3.0)\n"
          ]
        }
      ],
      "source": [
        "!pip install torch transformers tqdm sklearn Cython"
      ]
    },
    {
      "cell_type": "code",
      "execution_count": null,
      "metadata": {
        "id": "_gaD89L7PjMT"
      },
      "outputs": [],
      "source": [
        "import os\n",
        "import torch\n",
        "from typing import List, Tuple, Dict\n",
        "from transformers import AutoTokenizer, AutoModelForSequenceClassification\n",
        "from tqdm import tqdm_notebook as tqdm\n",
        "from sklearn.model_selection import train_test_split\n",
        "from sklearn.metrics import classification_report"
      ]
    },
    {
      "cell_type": "code",
      "execution_count": null,
      "metadata": {
        "id": "l-DbjWivVxfq",
        "colab": {
          "base_uri": "https://localhost:8080/"
        },
        "outputId": "d17a7fe3-35de-4a82-d7ad-bae176e8d070"
      },
      "outputs": [
        {
          "output_type": "stream",
          "name": "stdout",
          "text": [
            "'Colab Notebooks'   VNTC\n"
          ]
        }
      ],
      "source": [
        "!ls"
      ]
    },
    {
      "cell_type": "code",
      "execution_count": null,
      "metadata": {
        "id": "lIjJg2Z_JF6q",
        "colab": {
          "base_uri": "https://localhost:8080/"
        },
        "outputId": "16f2dac7-8cd6-45ca-819e-4424b6d41d57"
      },
      "outputs": [
        {
          "output_type": "stream",
          "name": "stdout",
          "text": [
            "/content/drive/MyDrive/VNTC/Data/10Topics/Ver1.1\n",
            "Stats.txt  Test_Full  Test_Full.rar  Train_Full  Train_Full.rar\n"
          ]
        }
      ],
      "source": [
        "%cd VNTC/Data/10Topics/Ver1.1\n",
        "!ls"
      ]
    },
    {
      "cell_type": "code",
      "execution_count": null,
      "metadata": {
        "id": "_6tCDKnSPotv"
      },
      "outputs": [],
      "source": [
        "TRAIN_PATH = \"Train_Full/\"\n",
        "TEST_PATH = \"Test_Full/\""
      ]
    },
    {
      "cell_type": "code",
      "execution_count": null,
      "metadata": {
        "id": "O7VPzK1NPtQq",
        "colab": {
          "base_uri": "https://localhost:8080/"
        },
        "outputId": "3284105e-0233-4936-bc56-411787f6b5e1"
      },
      "outputs": [
        {
          "output_type": "execute_result",
          "data": {
            "text/plain": [
              "{'Doi song': 0,\n",
              " 'Khoa hoc': 1,\n",
              " 'Kinh doanh': 2,\n",
              " 'Phap luat': 3,\n",
              " 'Suc khoe': 4,\n",
              " 'The gioi': 5,\n",
              " 'The thao': 6,\n",
              " 'Van hoa': 7,\n",
              " 'Vi tinh': 8,\n",
              " 'Chinh tri Xa hoi': 9}"
            ]
          },
          "metadata": {},
          "execution_count": 13
        }
      ],
      "source": [
        "category2id = {category: idx for idx, category in enumerate(os.listdir(TRAIN_PATH))}\n",
        "category2id"
      ]
    },
    {
      "cell_type": "code",
      "execution_count": null,
      "metadata": {
        "id": "mHZce_rgPuUV",
        "colab": {
          "base_uri": "https://localhost:8080/"
        },
        "outputId": "5f475d8a-4094-4a58-f94b-b069861078bd"
      },
      "outputs": [
        {
          "output_type": "stream",
          "name": "stdout",
          "text": [
            "TRAIN:\n",
            "Train_Full/Doi song\n",
            "Train_Full/Khoa hoc\n",
            "Train_Full/Kinh doanh\n",
            "Train_Full/Phap luat\n",
            "Train_Full/Suc khoe\n",
            "Train_Full/The gioi\n",
            "Train_Full/The thao\n",
            "Train_Full/Van hoa\n",
            "Train_Full/Vi tinh\n",
            "Train_Full/Chinh tri Xa hoi\n",
            "TEST:\n",
            "Train_Full/Khoa hoc\n",
            "Train_Full/Phap luat\n",
            "Train_Full/Suc khoe\n",
            "Train_Full/The gioi\n",
            "Train_Full/The thao\n",
            "Train_Full/Vi tinh\n",
            "Train_Full/Chinh tri Xa hoi\n",
            "Train_Full/Doi song\n",
            "Train_Full/Kinh doanh\n",
            "Train_Full/Van hoa\n"
          ]
        }
      ],
      "source": [
        "data = []\n",
        "def read_file(category, file_name):\n",
        "    text_path = os.path.join(TRAIN_PATH, category, file_name)\n",
        "    with open(text_path, \"r\", encoding = 'utf-16') as file:\n",
        "        content = file.read()\n",
        "    return (content, category2id[category])\n",
        "print(\"TRAIN:\")\n",
        "for category in os.listdir(TRAIN_PATH):\n",
        "    category_path = os.path.join(TRAIN_PATH, category)\n",
        "    print(category_path)\n",
        "    data.extend([ read_file(category, file_name) for file_name in os.listdir(category_path)])\n",
        "test_data = []\n",
        "print(\"TEST:\")\n",
        "for category in os.listdir(TEST_PATH):\n",
        "    category_path = os.path.join(TRAIN_PATH, category)\n",
        "    print(category_path)\n",
        "    test_data.extend([ read_file(category, file_name) for file_name in os.listdir(category_path)])"
      ]
    },
    {
      "cell_type": "code",
      "execution_count": null,
      "metadata": {
        "id": "UX9hxuoUPxQQ"
      },
      "outputs": [],
      "source": [
        "class VNTCDataset(torch.utils.data.Dataset):\n",
        "    def __init__(self, data):\n",
        "        self.data = data\n",
        "\n",
        "    def __getitem__(self, idx):\n",
        "        return self.data[idx]\n",
        "\n",
        "    def __len__(self):\n",
        "        return len(self.data)"
      ]
    },
    {
      "cell_type": "code",
      "execution_count": null,
      "metadata": {
        "id": "b5HEEnCZPyWA"
      },
      "outputs": [],
      "source": [
        "train_data, valid_data = train_test_split(data, test_size = 0.1)"
      ]
    },
    {
      "cell_type": "code",
      "execution_count": null,
      "metadata": {
        "id": "hTpXUJZwPzbQ"
      },
      "outputs": [],
      "source": [
        "vntc_train_data = VNTCDataset(train_data)\n",
        "vntc_valid_data = VNTCDataset(valid_data)\n",
        "vntc_test_data = VNTCDataset(test_data)"
      ]
    },
    {
      "cell_type": "code",
      "execution_count": null,
      "metadata": {
        "id": "02TdJIDcP0ZR",
        "colab": {
          "base_uri": "https://localhost:8080/"
        },
        "outputId": "0ec9975c-1c11-4fbf-d7c7-9f6705d32848"
      },
      "outputs": [
        {
          "output_type": "stream",
          "name": "stderr",
          "text": [
            "Special tokens have been added in the vocabulary, make sure the associated word embeddings are fine-tuned or trained.\n"
          ]
        }
      ],
      "source": [
        "tokenizer = AutoTokenizer.from_pretrained(\"vinai/phobert-base\")"
      ]
    },
    {
      "cell_type": "code",
      "execution_count": null,
      "metadata": {
        "id": "uD1RSfVTP1sv",
        "colab": {
          "base_uri": "https://localhost:8080/"
        },
        "outputId": "d1d4a9e7-4795-4768-e874-97aa223d5c93"
      },
      "outputs": [
        {
          "output_type": "stream",
          "name": "stdout",
          "text": [
            "Model max_length:  256\n"
          ]
        }
      ],
      "source": [
        "print(\"Model max_length: \", tokenizer.model_max_length)"
      ]
    },
    {
      "cell_type": "code",
      "execution_count": null,
      "metadata": {
        "id": "3FTTpl-PP23V"
      },
      "outputs": [],
      "source": [
        "def collate_fn(data: List[Tuple[str, int]]):\n",
        "    texts = []\n",
        "    labels = []\n",
        "    for content, label in data:\n",
        "        texts.append(content)\n",
        "        labels.append(label)    \n",
        "    input_ids = tokenizer.batch_encode_plus(texts, padding = True, truncation = True)['input_ids']\n",
        "    input_ids = torch.tensor(input_ids)\n",
        "    labels = torch.tensor(labels)\n",
        "    return input_ids, labels"
      ]
    },
    {
      "cell_type": "code",
      "execution_count": null,
      "metadata": {
        "id": "xcUfzGk-P38E"
      },
      "outputs": [],
      "source": [
        "train_dataloader = torch.utils.data.DataLoader(dataset = vntc_train_data, batch_size = 32, collate_fn = collate_fn, shuffle = True)\n",
        "valid_dataloader = torch.utils.data.DataLoader(dataset = vntc_valid_data, batch_size = 32, collate_fn = collate_fn)\n",
        "test_dataloader = torch.utils.data.DataLoader(dataset = vntc_test_data, batch_size = 32, collate_fn = collate_fn)"
      ]
    },
    {
      "cell_type": "code",
      "execution_count": null,
      "metadata": {
        "id": "qoYVjQTjP48R",
        "colab": {
          "base_uri": "https://localhost:8080/"
        },
        "outputId": "51ac9f52-5eaa-47ec-c1b5-25c69c0bcf42"
      },
      "outputs": [
        {
          "output_type": "stream",
          "name": "stdout",
          "text": [
            "tensor([[    0,  4150,    69,  ...,     1,     1,     1],\n",
            "        [    0, 51899,  2548,  ...,   127,  2209,     2],\n",
            "        [    0,   125,  3992,  ...,    51,  1278,     2],\n",
            "        ...,\n",
            "        [    0,  1070,   948,  ...,    10,    36,     2],\n",
            "        [    0,  8927, 24350,  ...,  2002,    13,     2],\n",
            "        [    0, 14831,  3520,  ...,   566,   128,     2]]) tensor([6, 2, 3, 8, 9, 9, 4, 8, 9, 3, 9, 0, 3, 4, 2, 6, 9, 6, 6, 9, 5, 8, 0, 7,\n",
            "        9, 6, 5, 0, 6, 6, 4, 4])\n"
          ]
        }
      ],
      "source": [
        "for input_ids, labels in train_dataloader:\n",
        "    print(input_ids, labels)\n",
        "    break"
      ]
    },
    {
      "cell_type": "markdown",
      "metadata": {
        "id": "4sUF3Jw7P6Mq"
      },
      "source": [
        "MODEL"
      ]
    },
    {
      "cell_type": "code",
      "execution_count": null,
      "metadata": {
        "id": "g082mMo-P95q"
      },
      "outputs": [],
      "source": [
        "class PhobertForNewsClassification(torch.nn.Module):\n",
        "    def __init__(self, num_classes):\n",
        "        super().__init__()\n",
        "        self.phobert = AutoModelForSequenceClassification.from_pretrained(\"vinai/phobert-base\", num_labels = num_classes)\n",
        "        for param in self.phobert.roberta.parameters():\n",
        "            param.requires_grad = False\n",
        "    def forward(self, input_ids, labels):\n",
        "        out = self.phobert(input_ids, labels = labels)\n",
        "        probs = torch.softmax(out['logits'], dim = -1)\n",
        "        preds = torch.argmax(probs, dim = -1).cpu().detach().numpy()\n",
        "        out['preds'] = preds\n",
        "        return out"
      ]
    },
    {
      "cell_type": "code",
      "execution_count": null,
      "metadata": {
        "id": "5jLX9y_MP_Hl",
        "colab": {
          "base_uri": "https://localhost:8080/"
        },
        "outputId": "fde6e861-abdf-4632-d343-bd51853307d2"
      },
      "outputs": [
        {
          "output_type": "stream",
          "name": "stderr",
          "text": [
            "Some weights of the model checkpoint at vinai/phobert-base were not used when initializing RobertaForSequenceClassification: ['lm_head.decoder.bias', 'lm_head.bias', 'lm_head.dense.weight', 'lm_head.decoder.weight', 'roberta.pooler.dense.bias', 'roberta.pooler.dense.weight', 'lm_head.layer_norm.bias', 'lm_head.layer_norm.weight', 'lm_head.dense.bias']\n",
            "- This IS expected if you are initializing RobertaForSequenceClassification from the checkpoint of a model trained on another task or with another architecture (e.g. initializing a BertForSequenceClassification model from a BertForPreTraining model).\n",
            "- This IS NOT expected if you are initializing RobertaForSequenceClassification from the checkpoint of a model that you expect to be exactly identical (initializing a BertForSequenceClassification model from a BertForSequenceClassification model).\n",
            "Some weights of RobertaForSequenceClassification were not initialized from the model checkpoint at vinai/phobert-base and are newly initialized: ['classifier.out_proj.weight', 'classifier.dense.weight', 'classifier.dense.bias', 'classifier.out_proj.bias']\n",
            "You should probably TRAIN this model on a down-stream task to be able to use it for predictions and inference.\n"
          ]
        }
      ],
      "source": [
        "model = PhobertForNewsClassification(len(category2id))"
      ]
    },
    {
      "cell_type": "code",
      "execution_count": null,
      "metadata": {
        "id": "GZ3vWXLJQAlP"
      },
      "outputs": [],
      "source": [
        "def get_num_parameters(module: torch.nn.Module) -> Dict[str, int]:\n",
        "    \"\"\"\n",
        "\n",
        "    Get the number of trainable, fixed and total parameters of a pytorch module.\n",
        "\n",
        "    :param module: pytorch module\n",
        "    :return: dict containing number of parameters\n",
        "    \"\"\"\n",
        "    trainable = 0\n",
        "    fixed = 0\n",
        "    for p in module.parameters():\n",
        "        if p.requires_grad:\n",
        "            trainable += p.numel()\n",
        "        else:\n",
        "            fixed += p.numel()\n",
        "    return {\"trainable\": trainable, \"fixed\": fixed, \"total\": trainable + fixed}"
      ]
    },
    {
      "cell_type": "code",
      "execution_count": null,
      "metadata": {
        "id": "3CIEniXEQBoy",
        "colab": {
          "base_uri": "https://localhost:8080/"
        },
        "outputId": "4474565d-74a9-4416-ff47-092d8d8c44a5"
      },
      "outputs": [
        {
          "output_type": "execute_result",
          "data": {
            "text/plain": [
              "{'trainable': 598282, 'fixed': 134407680, 'total': 135005962}"
            ]
          },
          "metadata": {},
          "execution_count": 26
        }
      ],
      "source": [
        "get_num_parameters(model)"
      ]
    },
    {
      "cell_type": "markdown",
      "metadata": {
        "id": "jl-ga_eCQCUY"
      },
      "source": [
        "TRAIN"
      ]
    },
    {
      "cell_type": "code",
      "execution_count": null,
      "metadata": {
        "id": "UqoOmC2tQDag",
        "colab": {
          "base_uri": "https://localhost:8080/",
          "height": 35
        },
        "outputId": "d5692e87-6f78-48f8-b673-754572fe9465"
      },
      "outputs": [
        {
          "output_type": "execute_result",
          "data": {
            "text/plain": [
              "'cuda'"
            ],
            "application/vnd.google.colaboratory.intrinsic+json": {
              "type": "string"
            }
          },
          "metadata": {},
          "execution_count": 27
        }
      ],
      "source": [
        "device = \"cuda\" if torch.cuda.is_available() else \"cpu\"\n",
        "device"
      ]
    },
    {
      "cell_type": "code",
      "execution_count": null,
      "metadata": {
        "id": "Nz7pu5tOQFOa"
      },
      "outputs": [],
      "source": [
        "LR = 1e-4\n",
        "EPOCH = 5\n",
        "LOG_STEP = 100"
      ]
    },
    {
      "cell_type": "code",
      "execution_count": null,
      "metadata": {
        "id": "9v07Y2OoQG6t"
      },
      "outputs": [],
      "source": [
        "optimizer = torch.optim.Adam(model.parameters(), lr= LR)"
      ]
    },
    {
      "cell_type": "code",
      "execution_count": null,
      "metadata": {
        "id": "-ecq9uLuQIPp",
        "colab": {
          "base_uri": "https://localhost:8080/"
        },
        "outputId": "79ebbaa8-3b6f-41f7-d1ea-1def7fba1667"
      },
      "outputs": [
        {
          "output_type": "stream",
          "name": "stdout",
          "text": [
            "Train Loader Step: 950\n",
            "Valid Loader Step: 106\n"
          ]
        }
      ],
      "source": [
        "print(f\"Train Loader Step: {len(train_dataloader)}\")\n",
        "print(f\"Valid Loader Step: {len(valid_dataloader)}\")"
      ]
    },
    {
      "cell_type": "code",
      "execution_count": null,
      "metadata": {
        "id": "ljKyxBO7QK9H"
      },
      "outputs": [],
      "source": [
        "model = model.to(device)"
      ]
    },
    {
      "cell_type": "code",
      "execution_count": null,
      "metadata": {
        "colab": {
          "base_uri": "https://localhost:8080/"
        },
        "id": "ZY3vcgYHQMMC",
        "outputId": "69255aa3-196f-4632-ee5f-97166b0a16c2"
      },
      "outputs": [
        {
          "output_type": "stream",
          "name": "stdout",
          "text": [
            "Epoch 0:\n",
            "Step 100, Avg Loss 1.0873827934265137\n",
            "Step 200, Avg Loss 0.7736279964447021\n",
            "Step 300, Avg Loss 0.6264583468437195\n",
            "Step 400, Avg Loss 0.8315905928611755\n",
            "Step 500, Avg Loss 0.6439021825790405\n",
            "Step 600, Avg Loss 0.44682544469833374\n",
            "Step 700, Avg Loss 0.6184277534484863\n",
            "Step 800, Avg Loss 0.47307366132736206\n",
            "Step 900, Avg Loss 0.6795957684516907\n",
            "                  precision    recall  f1-score   support\n",
            "\n",
            "        Doi song       0.79      0.75      0.77       342\n",
            "        Khoa hoc       0.78      0.73      0.75       195\n",
            "      Kinh doanh       0.84      0.74      0.79       264\n",
            "       Phap luat       0.80      0.84      0.82       407\n",
            "        Suc khoe       0.79      0.84      0.81       379\n",
            "        The gioi       0.89      0.86      0.87       271\n",
            "        The thao       0.98      0.96      0.97       510\n",
            "         Van hoa       0.79      0.83      0.81       272\n",
            "         Vi tinh       0.94      0.76      0.84       240\n",
            "Chinh tri Xa hoi       0.67      0.77      0.72       496\n",
            "\n",
            "        accuracy                           0.82      3376\n",
            "       macro avg       0.83      0.81      0.82      3376\n",
            "    weighted avg       0.83      0.82      0.82      3376\n",
            "\n",
            "Valid loss: 0.5587677851600467\n",
            "Epoch 1:\n",
            "Step 100, Avg Loss 0.6225023865699768\n",
            "Step 200, Avg Loss 0.7082375288009644\n",
            "Step 300, Avg Loss 0.68625807762146\n",
            "Step 400, Avg Loss 0.3940191864967346\n",
            "Step 500, Avg Loss 0.7337208390235901\n",
            "Step 600, Avg Loss 0.7508394718170166\n",
            "Step 700, Avg Loss 0.5683053731918335\n",
            "Step 800, Avg Loss 0.7000141739845276\n",
            "Step 900, Avg Loss 0.38067811727523804\n",
            "                  precision    recall  f1-score   support\n",
            "\n",
            "        Doi song       0.82      0.76      0.79       342\n",
            "        Khoa hoc       0.82      0.71      0.76       195\n",
            "      Kinh doanh       0.88      0.73      0.80       264\n",
            "       Phap luat       0.79      0.84      0.81       407\n",
            "        Suc khoe       0.76      0.89      0.82       379\n",
            "        The gioi       0.87      0.86      0.87       271\n",
            "        The thao       0.99      0.95      0.97       510\n",
            "         Van hoa       0.84      0.82      0.83       272\n",
            "         Vi tinh       0.94      0.77      0.85       240\n",
            "Chinh tri Xa hoi       0.68      0.78      0.72       496\n",
            "\n",
            "        accuracy                           0.82      3376\n",
            "       macro avg       0.84      0.81      0.82      3376\n",
            "    weighted avg       0.83      0.82      0.83      3376\n",
            "\n",
            "Valid loss: 0.5151424146485779\n",
            "Epoch 2:\n",
            "Step 100, Avg Loss 0.6050764322280884\n",
            "Step 200, Avg Loss 0.17278507351875305\n",
            "Step 300, Avg Loss 0.6128988265991211\n",
            "Step 400, Avg Loss 0.3443765938282013\n",
            "Step 500, Avg Loss 0.6633961200714111\n",
            "Step 600, Avg Loss 0.6783275008201599\n",
            "Step 700, Avg Loss 0.32641464471817017\n",
            "Step 800, Avg Loss 0.6772823333740234\n",
            "Step 900, Avg Loss 0.537651002407074\n",
            "                  precision    recall  f1-score   support\n",
            "\n",
            "        Doi song       0.82      0.77      0.79       342\n",
            "        Khoa hoc       0.83      0.76      0.79       195\n",
            "      Kinh doanh       0.84      0.74      0.79       264\n",
            "       Phap luat       0.76      0.85      0.80       407\n",
            "        Suc khoe       0.78      0.89      0.83       379\n",
            "        The gioi       0.91      0.83      0.87       271\n",
            "        The thao       0.98      0.96      0.97       510\n",
            "         Van hoa       0.84      0.85      0.84       272\n",
            "         Vi tinh       0.92      0.82      0.87       240\n",
            "Chinh tri Xa hoi       0.71      0.74      0.73       496\n",
            "\n",
            "        accuracy                           0.83      3376\n",
            "       macro avg       0.84      0.82      0.83      3376\n",
            "    weighted avg       0.83      0.83      0.83      3376\n",
            "\n",
            "Valid loss: 0.49434044774410857\n",
            "Epoch 3:\n",
            "Step 100, Avg Loss 0.5979357361793518\n",
            "Step 200, Avg Loss 0.5356723666191101\n",
            "Step 300, Avg Loss 0.3708963692188263\n",
            "Step 400, Avg Loss 0.4388045072555542\n",
            "Step 500, Avg Loss 0.3348675072193146\n",
            "Step 600, Avg Loss 0.4565611481666565\n",
            "Step 700, Avg Loss 0.4800454080104828\n",
            "Step 800, Avg Loss 0.445383757352829\n",
            "Step 900, Avg Loss 0.3806662857532501\n",
            "                  precision    recall  f1-score   support\n",
            "\n",
            "        Doi song       0.85      0.75      0.80       342\n",
            "        Khoa hoc       0.77      0.84      0.80       195\n",
            "      Kinh doanh       0.83      0.78      0.81       264\n",
            "       Phap luat       0.74      0.85      0.79       407\n",
            "        Suc khoe       0.81      0.85      0.83       379\n",
            "        The gioi       0.90      0.87      0.89       271\n",
            "        The thao       0.98      0.95      0.97       510\n",
            "         Van hoa       0.86      0.85      0.85       272\n",
            "         Vi tinh       0.94      0.79      0.86       240\n",
            "Chinh tri Xa hoi       0.72      0.73      0.73       496\n",
            "\n",
            "        accuracy                           0.83      3376\n",
            "       macro avg       0.84      0.83      0.83      3376\n",
            "    weighted avg       0.84      0.83      0.83      3376\n",
            "\n",
            "Valid loss: 0.49109938712614887\n",
            "Epoch 4:\n",
            "Step 100, Avg Loss 0.8795008659362793\n",
            "Step 200, Avg Loss 0.3626532256603241\n",
            "Step 300, Avg Loss 0.6553701162338257\n",
            "Step 400, Avg Loss 0.4134576916694641\n",
            "Step 500, Avg Loss 0.5806376338005066\n",
            "Step 600, Avg Loss 0.462091863155365\n",
            "Step 700, Avg Loss 0.5659815073013306\n",
            "Step 800, Avg Loss 0.38778504729270935\n",
            "Step 900, Avg Loss 0.2735934853553772\n",
            "                  precision    recall  f1-score   support\n",
            "\n",
            "        Doi song       0.86      0.73      0.79       342\n",
            "        Khoa hoc       0.82      0.75      0.78       195\n",
            "      Kinh doanh       0.84      0.77      0.80       264\n",
            "       Phap luat       0.77      0.83      0.80       407\n",
            "        Suc khoe       0.78      0.88      0.83       379\n",
            "        The gioi       0.89      0.87      0.88       271\n",
            "        The thao       0.98      0.96      0.97       510\n",
            "         Van hoa       0.88      0.83      0.85       272\n",
            "         Vi tinh       0.89      0.84      0.87       240\n",
            "Chinh tri Xa hoi       0.69      0.76      0.72       496\n",
            "\n",
            "        accuracy                           0.83      3376\n",
            "       macro avg       0.84      0.82      0.83      3376\n",
            "    weighted avg       0.83      0.83      0.83      3376\n",
            "\n",
            "Valid loss: 0.4795512613260521\n"
          ]
        }
      ],
      "source": [
        "losses = 0\n",
        "for i in range(EPOCH):\n",
        "    print(f\"Epoch {i}:\")\n",
        "    model.train()\n",
        "    for step, (input_ids, labels) in enumerate(train_dataloader):\n",
        "        optimizer.zero_grad()\n",
        "        input_ids = input_ids.to(device)\n",
        "        labels = labels.to(device)\n",
        "        out = model(input_ids, labels)\n",
        "        loss = out['loss']\n",
        "        loss.backward()\n",
        "        optimizer.step()\n",
        "        losses += loss.detach().cpu().item()\n",
        "        if step % LOG_STEP == 0 and step > 0:\n",
        "            print(f\"Step {step}, Avg Loss {loss}\")\n",
        "            losses = 0\n",
        "    \n",
        "    preds = []\n",
        "    trues = []\n",
        "    model.eval()\n",
        "    valid_loss = 0\n",
        "    with torch.no_grad():\n",
        "        for step, (input_ids, labels) in enumerate(valid_dataloader):\n",
        "            input_ids = input_ids.to(device)\n",
        "            labels = labels.to(device)\n",
        "            out = model(input_ids, labels)\n",
        "            loss = out['loss']\n",
        "            valid_loss += loss.detach().cpu().item()\n",
        "            preds.extend(out['preds'])\n",
        "            trues.extend(labels.detach().cpu().numpy())\n",
        "    print(classification_report(trues, preds, target_names = list(category2id.keys())))\n",
        "    print(f\"Valid loss: {valid_loss / len(valid_dataloader)}\")\n",
        "    torch.save(model.state_dict(), f\"breakpoint_epoch{i}.pt\")"
      ]
    },
    {
      "cell_type": "code",
      "source": [
        "preds = []\n",
        "trues = []\n",
        "model.eval()\n",
        "with torch.no_grad():\n",
        "    for step, (input_ids, labels) in enumerate(test_dataloader):\n",
        "        input_ids = input_ids.to(device)\n",
        "        labels = labels.to(device)\n",
        "        out = model(input_ids, labels)\n",
        "        loss = out['loss']\n",
        "        preds.extend(out['preds'])\n",
        "        trues.extend(labels.detach().cpu().numpy())\n",
        "        \n",
        "print(classification_report(trues, preds, target_names = list(category2id.keys())))"
      ],
      "metadata": {
        "colab": {
          "base_uri": "https://localhost:8080/"
        },
        "id": "75T8uVa5fx2E",
        "outputId": "826a380c-11ab-41d2-b7cb-5100a54170f2"
      },
      "execution_count": null,
      "outputs": [
        {
          "output_type": "stream",
          "name": "stdout",
          "text": [
            "                  precision    recall  f1-score   support\n",
            "\n",
            "        Doi song       0.87      0.77      0.81      3159\n",
            "        Khoa hoc       0.83      0.73      0.78      1820\n",
            "      Kinh doanh       0.80      0.78      0.79      2552\n",
            "       Phap luat       0.76      0.85      0.80      3868\n",
            "        Suc khoe       0.78      0.90      0.83      3384\n",
            "        The gioi       0.91      0.85      0.88      2898\n",
            "        The thao       0.98      0.96      0.97      5298\n",
            "         Van hoa       0.89      0.86      0.88      3080\n",
            "         Vi tinh       0.91      0.86      0.89      2481\n",
            "Chinh tri Xa hoi       0.72      0.75      0.73      5219\n",
            "\n",
            "        accuracy                           0.84     33759\n",
            "       macro avg       0.84      0.83      0.84     33759\n",
            "    weighted avg       0.84      0.84      0.84     33759\n",
            "\n"
          ]
        }
      ]
    },
    {
      "cell_type": "code",
      "source": [
        "torch.save(model.state_dict(), \"model.pt\")"
      ],
      "metadata": {
        "id": "Am25FJ8Vow0S"
      },
      "execution_count": null,
      "outputs": []
    },
    {
      "cell_type": "code",
      "source": [
        "text = \"\"\"\n",
        "Barcelona đã hoàn tất các thủ tục chiêu mộ hậu vệ Inigo Martinez từ Athletic Bilbao theo dạng chuyển nhượng tự do. Hợp đồng sẽ chính thức được ký vào cuối mùa giải này. Hiện tại đôi bên đã xong hầu hết mọi thoả thuận cần thiết, Martinez cũng đã hoàn tất kiểm tra y tế.\n",
        "- Chủ tịch Joan Laporta khẳng định Barcelona muốn đưa Lionel Messi trở lại, bất chấp sự cạnh tranh từ đội bóng nhà giàu Al-Hilal. Mặc dù vậy, Laporta cũng thừa nhận ông không thể đưa ra một lời đề nghị quá điên rồ.\n",
        "- Thêm một thông tin liên quan tới Barcelona: CLB xác nhận rằng Jordi Cruyff sẽ rời vị trí GĐTT vào cuối tháng 6 tới. Trước đó, đội bóng xứ Catalunya cũng đang loay hoay tìm người thay thế vị trí giám đốc bóng đá của Mateu Alemany. Hiện có tin cho rằng, huyền thoại Deco sẽ đảm nhiệm vai trò của Cruyff để lại.\n",
        "\"\"\""
      ],
      "metadata": {
        "id": "jbX1oaq8qqJb"
      },
      "execution_count": null,
      "outputs": []
    },
    {
      "cell_type": "code",
      "source": [
        "encoded_input = tokenizer.encode_plus(\n",
        "    text,\n",
        "    max_length=128,\n",
        "    padding=\"max_length\",\n",
        "    truncation=True,\n",
        "    return_tensors=\"pt\"\n",
        ")\n",
        "input_ids = encoded_input[\"input_ids\"]\n",
        "labels = None "
      ],
      "metadata": {
        "id": "eqC1CCWjrBs-"
      },
      "execution_count": null,
      "outputs": []
    },
    {
      "cell_type": "code",
      "source": [
        "input_ids = input_ids.to(device)\n",
        "with torch.no_grad():\n",
        "    output = model(input_ids, labels)\n",
        "logits = output['logits']\n",
        "probs = torch.softmax(logits, dim=-1)\n",
        "pred_label_id = torch.argmax(probs, dim=-1).item()\n",
        "print(\"Nhãn dự đoán:\", list(category2id.keys())[list(category2id.values()).index(pred_label_id)])"
      ],
      "metadata": {
        "colab": {
          "base_uri": "https://localhost:8080/"
        },
        "id": "dSb___f1rHbt",
        "outputId": "6e99cf8a-15fa-4e0c-a1ea-6f37447b0164"
      },
      "execution_count": null,
      "outputs": [
        {
          "output_type": "stream",
          "name": "stdout",
          "text": [
            "Nhãn dự đoán: The thao\n"
          ]
        }
      ]
    }
  ],
  "metadata": {
    "colab": {
      "provenance": [],
      "gpuType": "T4",
      "mount_file_id": "1TuLk2USMRSNvgCv1vxsGzjCTcjuSmQy9",
      "authorship_tag": "ABX9TyNrfSyExn3QAIwruSbNJJZq",
      "include_colab_link": true
    },
    "kernelspec": {
      "display_name": "Python 3",
      "name": "python3"
    },
    "language_info": {
      "name": "python"
    },
    "accelerator": "GPU",
    "gpuClass": "standard"
  },
  "nbformat": 4,
  "nbformat_minor": 0
}